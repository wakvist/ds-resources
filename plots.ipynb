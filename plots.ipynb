{
 "cells": [
  {
   "cell_type": "code",
   "execution_count": null,
   "id": "dd57021d-ef7a-4861-803e-f7b6c05d0083",
   "metadata": {},
   "outputs": [],
   "source": [
    "import numpy as np\n",
    "import matplotlib\n",
    "import matplotlib.pyplot as plt\n",
    "import pandas as pd\n",
    "import seaborn as sns"
   ]
  },
  {
   "cell_type": "markdown",
   "id": "4e3d4917-9191-46d6-bf05-de20a0132c74",
   "metadata": {},
   "source": [
    "### Default settings and colors"
   ]
  },
  {
   "cell_type": "code",
   "execution_count": null,
   "id": "056f1c51-9409-4a59-8a3b-e46104ee437e",
   "metadata": {},
   "outputs": [],
   "source": [
    "import matplotlib.colors as mcolors\n",
    "from cycler import cycler\n",
    "\n",
    "m_colors = ['#2BA4A6', '#F77673', '#2B696C', '#C64E50']\n",
    "#m_colors = ['#F77673', '#2BA4A6', '#2B696C', '#C64E50']\n",
    "\n",
    "sns.set(rc={\n",
    " 'axes.axisbelow': False,\n",
    " 'axes.edgecolor': 'lightgrey',\n",
    " 'axes.facecolor': 'None',\n",
    " 'axes.grid': False,\n",
    " 'axes.labelcolor': 'dimgrey',\n",
    " 'axes.spines.right': False,\n",
    " 'axes.spines.top': False,\n",
    " 'axes.titlesize': 20,\n",
    " 'axes.labelsize': 18,\n",
    " 'xtick.labelsize': 14,\n",
    " 'ytick.labelsize': 14,\n",
    " 'legend.title_fontsize': 16,\n",
    " 'legend.fontsize': 18,\n",
    " 'figure.facecolor': 'white',\n",
    " 'lines.solid_capstyle': 'round',\n",
    " 'patch.edgecolor': 'w',\n",
    " 'patch.force_edgecolor': True,\n",
    " 'text.color': 'dimgrey',\n",
    " 'xtick.bottom': False,\n",
    " 'xtick.color': 'dimgrey',\n",
    " 'xtick.direction': 'out',\n",
    " 'xtick.top': False,\n",
    " 'ytick.color': 'dimgrey',\n",
    " 'ytick.direction': 'out',\n",
    " 'ytick.left': True,\n",
    " 'ytick.right': False,\n",
    " 'axes.prop_cycle': cycler(color = m_colors)})"
   ]
  },
  {
   "cell_type": "markdown",
   "id": "83e229ce-5e81-449b-ba42-4e3cd6a4f13b",
   "metadata": {},
   "source": [
    "### Custom font"
   ]
  },
  {
   "cell_type": "markdown",
   "id": "480f6386-260e-4c12-9d43-2ef17a0cf2a1",
   "metadata": {},
   "source": [
    "```\n",
    "from matplotlib import font_manager\n",
    "\n",
    "font_path = '/Users/wakvist/Library/Fonts/Adjusted-VolvoNovum-Regular.otf'\n",
    "font_manager.fontManager.addfont(font_path)\n",
    "prop = font_manager.FontProperties(fname=font_path)\n",
    "\n",
    "plt.rcParams['font.family'] = 'sans-serif'\n",
    "plt.rcParams['font.sans-serif'] = prop.get_name()\n",
    "```"
   ]
  },
  {
   "cell_type": "markdown",
   "id": "4c436da7-c95b-4ce3-9a0a-cc5c073f070b",
   "metadata": {},
   "source": [
    "### Millions formatter"
   ]
  },
  {
   "cell_type": "markdown",
   "id": "3f9f045c-8d00-4e96-a3c6-ea7bcfefe28d",
   "metadata": {},
   "source": [
    "```\n",
    "import matplotlib.ticker as ticker\n",
    "\n",
    "@ticker.FuncFormatter\n",
    "def million_formatter(x, pos):\n",
    "    return \"%.1f M\" % (x/1E6)\n",
    "\n",
    "ax.yaxis.set_major_formatter(million_formatter)\n",
    "```"
   ]
  },
  {
   "cell_type": "markdown",
   "id": "f86b9e7d-9957-4a84-ba37-bccd71b6a90e",
   "metadata": {},
   "source": [
    "### Percentage formatter"
   ]
  },
  {
   "cell_type": "markdown",
   "id": "222094f1-9b37-4f54-b7e6-e5481679a8f4",
   "metadata": {},
   "source": [
    "```\n",
    "vals = ax.get_yticks()\n",
    "ax.set_yticklabels(['{:,.0%}'.format(x) for x in vals])\n",
    "```"
   ]
  },
  {
   "cell_type": "markdown",
   "id": "b113e83b-6e59-4801-b18a-d03e52c665e3",
   "metadata": {},
   "source": [
    "### Reverse a legend"
   ]
  },
  {
   "cell_type": "markdown",
   "id": "40097d18-cd26-4e7f-9d1a-7ac7e7c742ab",
   "metadata": {},
   "source": [
    "```\n",
    "handles, labels = ax.get_legend_handles_labels()\n",
    "leg = ax.legend(handles[::-1], labels[::-1\n",
    "```"
   ]
  },
  {
   "cell_type": "markdown",
   "id": "4cb67e8d-0e6b-4d9f-8b67-d94a855bf3fe",
   "metadata": {},
   "source": [
    "### Place legend outside chart"
   ]
  },
  {
   "cell_type": "markdown",
   "id": "a5317dc7-eb72-4250-ae6c-35a36e311acf",
   "metadata": {},
   "source": [
    "```\n",
    "box = ax.get_position()\n",
    "ax.set_position([box.x0, box.y0, box.width * 0.8, box.height])\n",
    "\n",
    "# Put a legend to the right of the current axis\n",
    "ax.legend(title='Market', loc='center left', bbox_to_anchor=(1, 0.5))\n",
    "```"
   ]
  },
  {
   "cell_type": "markdown",
   "id": "90974be5-902b-421e-bc59-504a6bb64f11",
   "metadata": {
    "tags": []
   },
   "source": [
    "### Annotating multiple time series"
   ]
  },
  {
   "cell_type": "markdown",
   "id": "52003b67-8e03-4b0f-8437-3ef80cea8939",
   "metadata": {},
   "source": [
    "```\n",
    "for i, line in enumerate(ax.lines):\n",
    "    x = line.get_xdata()[-1] + pd.Timedelta(8, 'days')\n",
    "    y = line.get_ydata()[-1] - 70000\n",
    "    color = line.get_color()\n",
    "    \n",
    "    ax.text(x, y, years[i], color=color, fontsize=16)\n",
    "```"
   ]
  },
  {
   "cell_type": "markdown",
   "id": "ed32e47b-b13c-4a6f-a703-6f32fa69e1a5",
   "metadata": {},
   "source": [
    "### Title, subtitle, description"
   ]
  },
  {
   "cell_type": "markdown",
   "id": "492f7bb5-93ad-495c-9bfd-5fe938de51d6",
   "metadata": {},
   "source": [
    "```\n",
    "plt.suptitle('Only 17% of users break even on Premium', x=0.125, y=0.98, ha='left', fontsize=20, color='black')\n",
    "\n",
    "#plt.suptitle('The number of users paying\\nfor Premium peaked in July 2022', x=0.125, y=1.05, ha='left', fontsize=20, color='black')\n",
    "plt.title('Histogram of user savings on Premium', loc='left', fontsize=14)\n",
    "```"
   ]
  }
 ],
 "metadata": {
  "kernelspec": {
   "display_name": "Python 3 (ipykernel)",
   "language": "python",
   "name": "python3"
  },
  "language_info": {
   "codemirror_mode": {
    "name": "ipython",
    "version": 3
   },
   "file_extension": ".py",
   "mimetype": "text/x-python",
   "name": "python",
   "nbconvert_exporter": "python",
   "pygments_lexer": "ipython3",
   "version": "3.10.7"
  }
 },
 "nbformat": 4,
 "nbformat_minor": 5
}
